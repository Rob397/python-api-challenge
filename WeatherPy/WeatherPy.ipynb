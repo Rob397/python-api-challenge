{
 "cells": [
  {
   "cell_type": "code",
   "execution_count": 1,
   "metadata": {},
   "outputs": [],
   "source": [
    "# Your first requirement is to create a series of scatter plots to showcase the following relationships:\n",
    "# Temperature (F) vs. Latitude\n",
    "# Humidity (%) vs. Latitude\n",
    "# Cloudiness (%) vs. Latitude\n",
    "# Wind Speed (mph) vs. Latitude\n",
    "\n",
    "# After each plot add a sentence or too explaining\\data\\2.5\\forecast what the code is and analysing."
   ]
  },
  {
   "cell_type": "markdown",
   "metadata": {},
   "source": [
    "Example on how to make an API call using your API key\n",
    "API call\n",
    "\n",
    "http://api.openweathermap.org/data/2.5/forecast?id=524901&appid={API key}"
   ]
  },
  {
   "cell_type": "markdown",
   "metadata": {},
   "source": []
  },
  {
   "cell_type": "code",
   "execution_count": 2,
   "metadata": {},
   "outputs": [],
   "source": [
    "# Dependencies\n",
    "import collections\n",
    "# collections_abc = getattr(collections, 'Iterable', collections)\n",
    "import numpy as np\n",
    "import pandas as pd\n",
    "import matplotlib.pyplot as plt\n",
    "import requests\n",
    "import gmaps\n",
    "from config import API\n",
    "import json\n",
    "\n",
    "# # Configure gmaps\n",
    "# gmaps.configure(api_key=gkey)"
   ]
  },
  {
   "cell_type": "code",
   "execution_count": 3,
   "metadata": {},
   "outputs": [],
   "source": [
    "# Dependencies and Setup\n",
    "import matplotlib.pyplot as plt\n",
    "import pandas as pd\n",
    "import numpy as np\n",
    "import requests\n",
    "import time\n",
    "from scipy.stats import linregress\n",
    "\n",
    "# Import API key\n",
    "from api_keys import weather_api_key\n",
    "\n",
    "# Incorporated citipy to determine city based on latitude and longitude\n",
    "from citipy import citipy\n",
    "\n",
    "# Output File (CSV)\n",
    "output_data_file = \"output_data/cities.csv\""
   ]
  },
  {
   "cell_type": "code",
   "execution_count": 4,
   "metadata": {},
   "outputs": [
    {
     "data": {
      "text/plain": [
       "('isangel', 'vu')"
      ]
     },
     "execution_count": 4,
     "metadata": {},
     "output_type": "execute_result"
    }
   ],
   "source": [
    "from citipy import citipy\n",
    "\n",
    "#randome numbers between -90 to 90 for latitude and -180 to 180 for longitude\n",
    "city = citipy.nearest_city(-19, 169.21)       \n",
    "city.city_name, city.country_code     # Tainan, my home town   \n"
   ]
  },
  {
   "cell_type": "code",
   "execution_count": 5,
   "metadata": {},
   "outputs": [],
   "source": [
    "\n",
    "# Range of latitudes and longitudes\n",
    "# while c < 644:\n",
    "lat_range = (-90, 90)\n",
    "lng_range = (-180, 180)\n",
    "\n",
    "# List for holding lat_lngs and cities\n",
    "lat_lngs = []\n",
    "cities = []\n",
    "\n",
    "# Create a set of random lat and lng combinations\n",
    "lats = np.random.uniform(lat_range[0], lat_range[1], size=1500)\n",
    "lngs = np.random.uniform(lng_range[0], lng_range[1], size=1500)\n",
    "lat_lngs = zip(lats, lngs)\n",
    "# lat_lngs = np.hstack((lats,lngs))\n",
    "# print(list(lat_lngs))\n",
    "\n",
    "# Identify nearest city for each lat, lng combination\n",
    "for lat_lng in lat_lngs:\n",
    "    city = citipy.nearest_city(lat_lng[0], lat_lng[1]).city_name\n",
    "    \n",
    "    # If the city is unique, then add it to a our cities list\n",
    "    if city not in cities:\n",
    "        cities.append(city)\n",
    "\n",
    "# Print the city count to confirm sufficient count\n",
    "# c= len(cities)\n"
   ]
  },
  {
   "cell_type": "code",
   "execution_count": null,
   "metadata": {},
   "outputs": [],
   "source": [
    "# Perform a weather check on each of the cities using a series of successive API calls.\n",
    "#cities = ['yinchuan','airai','kushima']\n",
    "# temp = []\n",
    "\n",
    "# api_url = f\"https://api.openweathermap.org/data/2.5/weather?q={cities}&appid={API}\"\n",
    "# for city in cities:\n",
    "  \n",
    "#   wea_data = requests.get(api_url).json() \n",
    "# #Get Temperature\n",
    "# #   temp = wea_data[\"main\"][\"temp\"]\n",
    "#   temp.append(wea_data['main']['temp'])\n",
    "\n",
    "# print(f\"The temperature information for {cities} received is: {temp}\")"
   ]
  },
  {
   "cell_type": "code",
   "execution_count": 11,
   "metadata": {},
   "outputs": [
    {
     "name": "stdout",
     "output_type": "stream",
     "text": [
      "The latitude information received is: [48.8534, -33.8679, 59.9127, 40.7143]\n",
      "The temperature information for ['Paris', 'Sydney', 'Oslo', 'New York'] received is: [291.03, 286.22, 286.34, 299.02]\n",
      "The humidity information for ['Paris', 'Sydney', 'Oslo', 'New York'] received is: [65, 63, 37, 49]\n",
      "The country information for ['Paris', 'Sydney', 'Oslo', 'New York'] received is: ['FR', 'AU', 'NO', 'US']\n"
     ]
    }
   ],
   "source": [
    "cities = [\"Paris\", \"Sydney\", \"Oslo\", \"New York\"]\n",
    "\n",
    "# set up lists to hold reponse info\n",
    "lat = []\n",
    "temp = []\n",
    "windspeed =[]\n",
    "humid =[]\n",
    "cloud = []\n",
    "date = []\n",
    "country =[]\n",
    "\n",
    "# Loop through the list of cities and perform a request for data on each\n",
    "\n",
    "\n",
    "for city in cities:\n",
    "    try:\n",
    "        api_url = f\"https://api.openweathermap.org/data/2.5/weather?q={city}&appid={API}\"\n",
    "        #print(api_url)\n",
    "        response = requests.get(api_url).json()\n",
    "        lat.append(response['coord']['lat'])\n",
    "        temp.append(response['main']['temp'])\n",
    "        humid.append(response['main']['humidity'])\n",
    "        cloud.append(response['clouds']['all'])\n",
    "        windspeed.append(response['wind']['speed'])\n",
    "        country.append(response['sys']['country'])\n",
    "        date.append(response['dt'])\n",
    "\n",
    "    except KeyError:\n",
    "        lat.append(-99999)\n",
    "        temp.append(-99999)\n",
    "\n",
    "print(f\"The latitude information received is: {lat}\")\n",
    "print(f\"The temperature information for {cities} received is: {temp}\")\n",
    "print(f\"The humidity information for {cities} received is: {humid}\")\n",
    "print(f\"The country information for {cities} received is: {country}\")\n",
    "\n"
   ]
  },
  {
   "cell_type": "code",
   "execution_count": null,
   "metadata": {},
   "outputs": [],
   "source": [
    "cities"
   ]
  },
  {
   "cell_type": "code",
   "execution_count": null,
   "metadata": {},
   "outputs": [],
   "source": [
    "# Note: target url works!\n",
    "target_url = f\"https://api.openweathermap.org/data/2.5/weather?lat={lats}&lon={lngs}&appid={API}\"\n",
    "# Run a request to endpoint and convert result to json\n",
    "wea_data = requests.get(target_url).json()\n",
    "\n",
    "# Print the json\n",
    "wea_data"
   ]
  },
  {
   "cell_type": "code",
   "execution_count": null,
   "metadata": {},
   "outputs": [],
   "source": [
    "# create a data frame from cities, lat, and temp\n",
    "weather_dict = {\n",
    "    \"city\": cities,\n",
    "    \"lat\": lat,\n",
    "    \"temp\": temp\n",
    "}\n",
    "weather_data = pd.DataFrame(weather_dict)\n",
    "weather_data.head()"
   ]
  },
  {
   "cell_type": "code",
   "execution_count": null,
   "metadata": {},
   "outputs": [],
   "source": [
    "# Build a scatter plot for each data type\n",
    "plt.scatter(weather_data[\"lat\"], weather_data[\"temp\"], marker=\"o\")\n",
    "\n",
    "# Incorporate the other graph properties\n",
    "plt.title(\"Temperature in World Cities\")\n",
    "plt.ylabel(\"Temperature (Celsius)\")\n",
    "plt.xlabel(\"Latitude\")\n",
    "plt.grid(True)\n",
    "\n",
    "# Save the figure\n",
    "plt.savefig(\"TemperatureInWorldCities.png\")\n",
    "\n",
    "# Show plot\n",
    "plt.show()"
   ]
  },
  {
   "cell_type": "code",
   "execution_count": null,
   "metadata": {},
   "outputs": [],
   "source": [
    "# Lets try requestion by name\n",
    "\n",
    "# target2_url = f\"http://api.openweathermap.org/geo/1.0/direct?q={city},{state},{country}&limit={limit}&appid={API}\"\n",
    "\n",
    "# wea2_data = requests.get(target2_url).json()\n",
    "\n",
    "# # Print the json\n",
    "# wea2_data\n"
   ]
  },
  {
   "cell_type": "code",
   "execution_count": null,
   "metadata": {},
   "outputs": [],
   "source": [
    "#9016\n",
    "cities_df.head()"
   ]
  },
  {
   "cell_type": "code",
   "execution_count": null,
   "metadata": {},
   "outputs": [],
   "source": []
  },
  {
   "cell_type": "code",
   "execution_count": null,
   "metadata": {},
   "outputs": [],
   "source": [
    "wea_data.keys()"
   ]
  },
  {
   "cell_type": "code",
   "execution_count": null,
   "metadata": {},
   "outputs": [],
   "source": [
    "len(wea_data[\"list\"])"
   ]
  },
  {
   "cell_type": "code",
   "execution_count": null,
   "metadata": {},
   "outputs": [],
   "source": [
    "temp = wea_data[\"list\"][0][\"main\"]['temp']\n",
    "temp"
   ]
  },
  {
   "cell_type": "code",
   "execution_count": null,
   "metadata": {},
   "outputs": [],
   "source": []
  },
  {
   "cell_type": "code",
   "execution_count": null,
   "metadata": {},
   "outputs": [],
   "source": [
    "wea_data['city']"
   ]
  },
  {
   "cell_type": "code",
   "execution_count": null,
   "metadata": {},
   "outputs": [],
   "source": [
    "# Temperature (F) vs. Latitude\n",
    "#make an API call and see what comes out---do I need to request latitude??\n",
    "\n",
    "print(json.dumps(wea_data, indent=4, sort_keys=True))"
   ]
  },
  {
   "cell_type": "code",
   "execution_count": null,
   "metadata": {},
   "outputs": [],
   "source": [
    "# Extract latitude \n",
    "lat = wea_data[\"city\"]['coord']['lat']\n",
    "temp = wea_data[\"list\"][0][\"main\"]['temp']\n",
    "temp, lat"
   ]
  }
 ],
 "metadata": {
  "kernelspec": {
   "display_name": "Python 3.7.13 ('PythonData')",
   "language": "python",
   "name": "python3"
  },
  "language_info": {
   "codemirror_mode": {
    "name": "ipython",
    "version": 3
   },
   "file_extension": ".py",
   "mimetype": "text/x-python",
   "name": "python",
   "nbconvert_exporter": "python",
   "pygments_lexer": "ipython3",
   "version": "3.7.13"
  },
  "orig_nbformat": 4,
  "vscode": {
   "interpreter": {
    "hash": "e5e434fdc2b64ab5d22aab168b9b76cc98d42e611d79d73e43618ef016367183"
   }
  }
 },
 "nbformat": 4,
 "nbformat_minor": 2
}
