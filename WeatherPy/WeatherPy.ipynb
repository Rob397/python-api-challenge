{
 "cells": [
  {
   "cell_type": "code",
   "execution_count": 1,
   "metadata": {},
   "outputs": [],
   "source": [
    "# Your first requirement is to create a series of scatter plots to showcase the following relationships:\n",
    "# Temperature (F) vs. Latitude\n",
    "# Humidity (%) vs. Latitude\n",
    "# Cloudiness (%) vs. Latitude\n",
    "# Wind Speed (mph) vs. Latitude\n",
    "\n",
    "# After each plot add a sentence or too explaining\\data\\2.5\\forecast what the code is and analysing."
   ]
  },
  {
   "cell_type": "markdown",
   "metadata": {},
   "source": [
    "Example on how to make an API call using your API key\n",
    "API call\n",
    "\n",
    "http://api.openweathermap.org/data/2.5/forecast?id=524901&appid={API key}"
   ]
  },
  {
   "cell_type": "markdown",
   "metadata": {},
   "source": []
  },
  {
   "cell_type": "code",
   "execution_count": 2,
   "metadata": {},
   "outputs": [],
   "source": [
    "# Dependencies\n",
    "import collections\n",
    "# collections_abc = getattr(collections, 'Iterable', collections)\n",
    "import numpy as np\n",
    "import pandas as pd\n",
    "import matplotlib.pyplot as plt\n",
    "import requests\n",
    "import gmaps\n",
    "from config import API\n",
    "import json\n",
    "\n",
    "# # Configure gmaps\n",
    "# gmaps.configure(api_key=gkey)"
   ]
  },
  {
   "cell_type": "code",
   "execution_count": 3,
   "metadata": {},
   "outputs": [],
   "source": [
    "# Dependencies and Setup\n",
    "import matplotlib.pyplot as plt\n",
    "import pandas as pd\n",
    "import numpy as np\n",
    "import requests\n",
    "import time\n",
    "from scipy.stats import linregress\n",
    "\n",
    "# Import API key\n",
    "from api_keys import weather_api_key\n",
    "\n",
    "# Incorporated citipy to determine city based on latitude and longitude\n",
    "from citipy import citipy\n",
    "\n",
    "# Output File (CSV)\n",
    "output_data_file = \"output_data/cities.csv\""
   ]
  },
  {
   "cell_type": "code",
   "execution_count": 4,
   "metadata": {},
   "outputs": [
    {
     "data": {
      "text/plain": [
       "('isangel', 'vu')"
      ]
     },
     "execution_count": 4,
     "metadata": {},
     "output_type": "execute_result"
    }
   ],
   "source": [
    "from citipy import citipy\n",
    "\n",
    "#randome numbers between -90 to 90 for latitude and -180 to 180 for longitude\n",
    "city = citipy.nearest_city(-19, 169.21)       \n",
    "city.city_name, city.country_code     # Tainan, my home town   \n"
   ]
  },
  {
   "cell_type": "code",
   "execution_count": 58,
   "metadata": {},
   "outputs": [],
   "source": [
    "\n",
    "# Range of latitudes and longitudes\n",
    "# while c < 644:\n",
    "lat_range = (-90, 90)\n",
    "lng_range = (-180, 180)\n",
    "\n",
    "# List for holding lat_lngs and cities\n",
    "lat_lngs = []\n",
    "cities = []\n",
    "\n",
    "# Create a set of random lat and lng combinations\n",
    "lats = np.random.uniform(lat_range[0], lat_range[1], size=1500)\n",
    "lngs = np.random.uniform(lng_range[0], lng_range[1], size=1500)\n",
    "lat_lngs = zip(lats, lngs)\n",
    "# lat_lngs = np.hstack((lats,lngs))\n",
    "# print(list(lat_lngs))\n",
    "\n",
    "# Identify nearest city for each lat, lng combination\n",
    "for lat_lng in lat_lngs:\n",
    "    city = citipy.nearest_city(lat_lng[0], lat_lng[1]).city_name\n",
    "    \n",
    "    # If the city is unique, then add it to a our cities list\n",
    "    if city not in cities:\n",
    "        cities.append(city)\n",
    "\n",
    "# Print the city count to confirm sufficient count\n",
    "# c= len(cities)\n"
   ]
  },
  {
   "cell_type": "code",
   "execution_count": null,
   "metadata": {},
   "outputs": [],
   "source": [
    "# Perform a weather check on each of the cities using a series of successive API calls.\n",
    "#cities = ['yinchuan','airai','kushima']\n",
    "# temp = []\n",
    "\n",
    "# api_url = f\"https://api.openweathermap.org/data/2.5/weather?q={cities}&appid={API}\"\n",
    "# for city in cities:\n",
    "  \n",
    "#   wea_data = requests.get(api_url).json() \n",
    "# #Get Temperature\n",
    "# #   temp = wea_data[\"main\"][\"temp\"]\n",
    "#   temp.append(wea_data['main']['temp'])\n",
    "\n",
    "# print(f\"The temperature information for {cities} received is: {temp}\")"
   ]
  },
  {
   "cell_type": "code",
   "execution_count": null,
   "metadata": {},
   "outputs": [],
   "source": [
    "# &units={units}\n"
   ]
  },
  {
   "cell_type": "code",
   "execution_count": 63,
   "metadata": {},
   "outputs": [
    {
     "name": "stdout",
     "output_type": "stream",
     "text": [
      "The latitude information information for ['ilulissat', 'belushya guba', 'illoqqortoormiut', 'rikitea', 'mys shmidta', 'tuktoyaktuk', 'carupano', 'veraval', 'warqla', 'tiksi', 'mataura', 'saskylakh', 'busselton', 'punta arenas', 'venezuela', 'nanortalik', 'adre', 'saint george', 'saint-augustin', 'albany', 'poum', 'ribeira grande', 'bluff', 'thompson', 'ushuaia', 'khatanga', 'torbay', 'kishi', 'dire dawa', 'watertown', 'nikolskoye', 'atuona', 'kodiak', 'praia', 'yellowknife', 'alappuzha', 'murgab', 'natchitoches', 'greven', 'vaitupu', 'ugoofaaru', 'faanui', 'arraial do cabo', 'muisne', 'san patricio', 'caravelas', 'hilo', 'hobbs', 'khani', 'houma', 'acarau', 'samusu', 'tashtyp', 'mahibadhoo', 'longyearbyen', 'prieta', 'barentsburg', 'puerto ayora', 'hermanus', 'avera', 'castro', 'ponca city', 'jamestown', 'srivardhan', 'margate', 'vung tau', 'berlevag', 'sitka', 'mutsamudu', 'kahului', 'goba', 'new norfolk', 'souillac', 'kadykchan', 'cape town', 'bredasdorp', 'zhuzhou', 'kearney', 'gobabis', 'flinders', 'rawson', 'lebu', 'ca mau', 'dikson', 'lorengau', 'bethel', 'sao filipe', 'iqaluit', 'clonakilty', 'sahrak', 'huarmey', 'kollumerland', 'talnakh', 'cabo san lucas', 'taolanaro', 'leningradskiy', 'bhatkal', 'muros', 'shahpur', 'alofi', 'tezu', 'henties bay', 'cidreira', 'avarua', 'hamilton', 'chuy', 'nuuk', 'port alfred', 'laguna', 'butaritari', 'borzya', 'gazanjyk', 'east london', 'maniitsoq', 'beringovskiy', 'kaitangata', 'alotau', 'kazalinsk', 'karakol', 'pangnirtung', 'chokurdakh', 'okato', 'hobart', 'auki', 'balimo', 'westport', 'launceston', 'ahipara', 'mount isa', 'norman wells', 'pevek', 'coahuayana', 'georgetown', 'samalaeulu', 'newport', 'ardakan', 'vaini', 'zemio', 'yerbogachen', 'orbetello', 'airai', 'los llanos de aridane', 'yueyang', 'deputatskiy', 'matir', 'saint-denis', 'otradinskiy', 'attawapiskat', 'luderitz', 'qaanaaq', 'vostok', 'kununurra', 'bundaberg', 'baijiantan', 'upernavik', 'kapaa', 'srednekolymsk', 'morden', 'bonavista', 'oistins', 'narsaq', 'hit', 'ancud', 'hokitika', 'grindavik', 'katsuura', 'sembe', 'saldanha', 'outlook', 'tabou', 'sentyabrskiy', 'ylivieska', 'southbridge', 'carutapera', 'broome', 'tsihombe', 'ruatoria', 'codrington', 'mount gambier', 'bar harbor', 'selizharovo', 'nizhneyansk', 'ijaki', 'saint-joseph', 'tuatapere', 'verkhnevilyuysk', 'nioro', 'bubaque', 'santa marinella', 'port lincoln', 'awbari', 'pokaran', 'marsa matruh', 'kapit', 'camana', 'tasiilaq', 'cherskiy', 'banda aceh', 'san andres', 'mahebourg', 'te anau', 'puerto madryn', 'aykhal', 'yarim', 'grand river south east', 'dzierzoniow', 'trabzon', 'eten', 'port macquarie', 'labuhan', 'paracuru', 'americus', 'vestmannaeyjar', 'wilkie', 'comodoro rivadavia', 'chumikan', 'antropovo', 'koslan', 'port hedland', 'geraldton', 'tual', 'baherden', 'barrow', 'naze', 'esperance', 'mandurah', 'contamana', 'asyut', 'saint-georges', 'borovskoy', 'mar del plata', 'gisborne', 'asau', 'rancho palos verdes', 'katha', 'yulara', 'itarema', 'kabakovo', 'okha', 'novyy urengoy', 'russell', 'le port', 'toungoo', 'amderma', 'emerald', 'eureka', 'victoria', 'sergeyevka', 'san cristobal', 'calama', 'hasaki', 'koumac', 'uppsala', 'chardara', 'ponta delgada', 'bambous virieux', 'lavrentiya', 'san luis', 'provideniya', 'coracao de jesus', 'kirando', 'jiuquan', 'gloucester', 'aswan', 'grand gaube', 'pangai', 'alice springs', 'prince rupert', 'riyadh', 'talagang', 'leiyang', 'hithadhoo', 'anloga', 'emba', 'hurghada', 'roald', 'tupik', 'manokwari', 'ukiah', 'zhigansk', 'ponta do sol', 'ust-kuyga', 'qinzhou', 'saint peters', 'cairns', 'lompoc', 'sao joao da barra', 'karaul', 'bargal', 'bahar', 'saint-philippe', 'tiarei', 'marawi', 'puerto escondido', 'tekeli', 'walvis bay', 'mamallapuram', 'vaitape', 'juneau', 'vila velha', 'elmadag', 'byron bay', 'tablas', 'kolchugino', 'buwenge', 'alyangula', 'tawkar', 'lunenburg', 'luancheng', 'lahat', 'chapais', 'port elizabeth', 'pitkyaranta', 'ola', 'vodnyy', 'lagoa', 'cayenne', 'aklavik', 'nyirabrany', 'horki', 'nkhotakota', 'pacific grove', 'kamaishi', 'la ronge', 'aquiraz', 'gat', 'sur', 'barcelos', 'tarazona', 'bolshoye soldatskoye', 'palabuhanratu', 'meulaboh', 'ayorou', 'north platte', 'mauswagon', 'namwala', 'huron', 'tigzirt', 'karratha', 'pafos', 'sinop', 'atherton', 'lagdo', 'port hawkesbury', 'dali', 'karpogory', 'dunedin', 'fortuna', 'tondano', 'sibolga', 'moose factory', 'kieta', 'haines junction', 'bundibugyo', 'yukuhashi', 'gizo', 'nueva loja', 'aksarka', 'rungata', 'praxedis guerrero', 'bandarbeyla', 'mormugao', 'jalingo', 'olga', 'tutoia', 'raga', 'saleaula', 'carnarvon', 'mao', 'wulanhaote', 'ojinaga', 'lima', 'zhezkazgan', 'dzerzhinsk', 'coquimbo', 'lake charles', 'borba', 'dagda', 'clyde river', 'adet', 'beisfjord', 'pasighat', 'tidore', 'pirovskoye', 'tomatlan', 'pacifica', 'uruzgan', 'hambantota', 'karasburg', 'klaksvik', 'severo-kurilsk', 'burghausen', 'tessalit', 'almaznyy', 'kholodnyy', 'saint-anselme', 'temaraia', 'talara', 'kabanjahe', 'ileza', 'ashta', 'mogadishu', 'dingle', 'padang', 'dera ghazi khan', 'taicheng', 'beloha', 'barawe', 'zadar', 'astoria', 'lieksa', 'lipin bor', 'rio grande', 'oudtshoorn', 'carahue', 'woodward', 'kavaratti', 'sayyan', 'valdivia', 'kudahuvadhoo', 'salto', 'rio gallegos', 'salalah', 'ksenyevka', 'jalu', 'jasper', 'jambi', 'lasa', 'isangel', 'samarai', 'yanam', 'surubim', 'lolua', 'buala', 'payerne', 'mayo', 'praia da vitoria', 'chisec', 'alugan', 'utiroa', 'parati', 'guadalupe victoria', 'sibu', 'makakilo city', 'spearfish', 'wundanyi', 'santa maria', 'shubarshi', 'port hardy', 'bilibino', 'matagami', 'obercorn', 'werda', 'portland', 'gunjur', 'sharjah', 'wuda', 'turayf', 'qafsah', 'kavieng', 'imbituba', 'mbandaka', 'eskasem', 'axim', 'chirilagua', 'kirkenaer', 'asfi', 'tadine', 'pisco', 'vanavara', 'taylorville', 'kuytun', 'terrace', 'tilichiki', 'fatehpur', 'kasane', 'yarada', 'ossora', 'tumannyy', 'abu kamal', 'touros', 'antalaha', 'altay', 'saint-louis', 'lazaro cardenas', 'esna', 'kayes', 'severnyy', 'njombe', 'dutlwe', 'nelson bay', 'araouane', 'manggar', 'quatre cocos', 'college', 'baoqing', 'fairbanks', 'omboue', 'shimoda', 'gif-sur-yvette', 'puerto el triunfo', 'awjilah', 'mitu', 'loreto', 'hammerfest', 'caarapo', 'galesong', 'saint-paul', 'ust-nera', 'shaunavon', 'mangan', 'baykit', 'yumen', 'acapulco', 'biltine', 'scarborough', 'mitsamiouli', 'ilebo', 'kruisfontein', 'izumo', 'saint-pierre', 'tommot', 'afonso bezerra', 'namatanai', 'guerrero negro', 'verkhnetulomskiy', 'kozhva', 'mecca', 'marcona', 'gamba', 'cardoso', 'alta floresta', 'san carlos de bariloche', 'itoman', 'yershov', 'san quintin', 'la sarre', 'tooele', 'kimbe', 'crab hill', 'sept-iles', 'biloela', 'kungurtug', 'luanda', 'kralendijk', 'sobolevo', 'toora-khem', 'marsh harbour', 'chegdomyn', 'griffith', 'adrar', 'vitimskiy', 'tarakan', 'chimbote', 'dzhusaly', 'kayasula', 'bilma', 'imphal', 'derzhavinsk', 'manbij', 'arti', 'oktyabrskoye', 'gurupa', 'troitskoye', 'kneza', 'nadym', 'pindwara', 'ulladulla', 'mpika', 'benghazi', 'ambodifototra', 'mahajanga', 'solnechnyy', 'chitipa', 'abnub', 'preeceville', 'kampong thum', 'faya', 'baishishan', 'villacarrillo', 'ayagoz', 'lakatoro', 'santander', 'rumoi', 'jiangyan', 'kirovskiy', 'ngukurr', 'plettenberg bay', 'ambilobe', 'west monroe', 'palauig', 'cajamarca', 'golden', 'shingu', 'lata', 'leh', 'abu dhabi', 'dudinka', 'pandan', 'peachland', 'hami', 'constitucion', 'vardo', 'inhambane', 'la orilla', 'marienburg'] received is: [69.2167, -999999, -999999, -23.1203, -999999, 69.4541, 10.6678, 20.9, -999999, 71.6872, -46.1927, 71.9167, -33.65, -53.15, 8, 60.1432, 13.4667, 37.1041, 51.226, 42.6001, -20.2333, 38.5167, -46.6, 55.7435, -54.8, 71.9667, 47.6666, 9.0833, 9.5931, 42.3709, 59.7035, -9.8, 57.79, 14.9215, 62.456, 9.49, 37.4966, 31.7668, 52.0936, -999999, 5.6667, -16.4833, -22.9661, 0.6, 28.017, -17.7125, 19.7297, 32.7026, 41.9563, 29.5958, -2.8856, -999999, 52.7939, 3.7833, 78.2186, 15.5833, -999999, -0.7393, -34.4187, 33.194, -24.7911, 36.707, 42.097, 18.0333, 51.3813, 10.346, 70.8578, 57.0531, -999999, 20.8947, 7.0167, -42.7826, -20.5167, -999999, -33.9258, -34.5322, 27.8333, 40.6995, -22.45, -34.5833, -43.3002, -37.6167, 9.1769, 73.5069, -2.0226, 41.3712, 14.8961, 63.7506, 51.6231, -999999, -10.0681, -999999, 69.4865, 22.8909, -999999, 69.3833, 13.9667, 42.7762, 16.7, -19.0595, 27.9167, -22.116, -30.1811, -21.2078, 39.1834, -33.6971, 64.1835, -33.5906, 38.421, 3.0707, 50.3833, 39.2446, -33.0153, 65.4167, 63.05, -46.2817, -999999, -999999, 42.4907, 66.1451, 70.6333, -39.2, -42.8794, -8.7676, -999999, 41.1415, -41.45, -35.1667, -20.7333, 65.282, 69.7008, 18.7333, 5.4112, -999999, 51.5877, 32.31, -21.2, 5.0314, 61.2767, 42.4408, -8.9266, 28.6585, 29.3333, 69.3, -999999, 48.9167, -999999, -999999, -26.6481, 77.484, 46.4856, -15.7667, -24.85, 45.6333, 72.7868, 22.0752, 67.45, 49.1919, 48.6499, 13.0667, 60.9167, 33.6416, -41.8697, -42.7167, 63.8424, 35.1333, 1.6481, -33.0117, 51.5001, 4.423, -999999, 64.0833, 42.0751, -1.195, 42.2506, -999999, -999999, -38.2667, -37.8333, 44.3876, 56.8519, -999999, -999999, -21.3667, -46.1333, 63.4453, 13.35, 11.2833, 42.0345, -34.7333, 26.5921, 26.9167, 31.3525, 2.0167, -16.6228, 65.6145, 68.75, 5.5577, 12.5847, -20.4081, -45.4167, -42.7692, 66, 14.298, -999999, 50.7282, 40.9167, -6.9081, -31.4333, -6.8844, -3.41, 32.0724, 63.4427, 52.4168, -45.8667, 54.7183, 58.3988, 63.4564, -20.3167, -28.7667, -5.6667, 38.4362, 71.2906, 28.3667, -33.8667, -32.55, -7.3333, 27.181, 12.0564, 53.8, -38.0023, -38.6533, 46.4333, 33.7445, -999999, -25.2406, -2.9248, 54.5369, 53.5739, 66.0833, 32.3502, -20.9373, -999999, -999999, -23.5333, 40.8021, 22.2855, 53.88, 7.7669, -22.4667, 35.7333, -20.5667, 60, 41.2547, 37.7333, -20.3428, 65.5833, -33.295, 64.3833, -16.6853, -7.4167, 39.7432, 51.8657, 24.0934, -20.0064, -19.8, -23.7, 54.3161, 24.6877, 32.9297, 26.4024, -0.6, 5.7947, 48.8264, 27.2574, 62.5833, 54.4253, -0.8667, 39.1502, 66.7697, 32.6667, 70.0167, 21.95, 38.8003, -16.9167, 34.6391, -21.6403, -999999, -999999, 34.9072, -21.3585, -17.5333, 7.9986, 15.85, 44.83, -22.9575, 12.6264, -16.5167, 58.3019, -20.3297, 39.9208, -28.65, 6.6292, 56.3, 0.6422, -13.8483, -999999, 44.3835, 37.8792, -3.8, 49.7834, -33.918, 61.5734, 59.5833, 63.5046, 39.05, 4.9333, 68.2191, 47.5531, 54.2861, -12.9274, 36.6177, 39.2667, 55.1001, -3.9014, 31.61, 22.5667, 41.5388, 41.9, -999999, -999999, 4.1363, 14.7308, 41.1239, -999999, -15.7504, 41.1501, 36.8886, -20.7377, 34.7667, 41.7711, 53.5237, 9.05, 45.6169, 25.7, 64.0019, -45.8742, 40.5982, 1.3038, 1.7427, 51.2585, -6.2167, 60.7522, 0.7414, 33.7287, -8.103, 0.0847, 66.5606, -999999, 31.3667, 9.4942, 15.4, 8.8833, 43.7444, -2.7619, 8.4596, -999999, -24.8667, 39.8885, -999999, 29.5667, -12.0432, 47.8043, 56.2389, -29.9533, 30.2131, -4.3878, 56.0951, 70.4692, 11.2644, 68.3751, 28.0667, -999999, 57.6267, 19.9333, 37.6138, 32.8333, 6.1241, -28.0167, 62.2266, 50.6789, 48.1667, 20.1986, 48.0448, 62.7167, 46.6292, -999999, -4.5772, 3.1001, 61.0533, 23.0167, 2.0371, 10.9995, -0.9492, 30.0561, 38.731, -25.1667, -999999, 44.1197, 46.1879, 63.3167, 60.2622, -32.035, -33.5907, -38.7, 36.4337, 10.5669, 15.1718, -39.8142, 2.6708, -31.3833, -51.6226, 17.0151, -999999, 29.0331, 37.2001, -1.6, 46.6166, -19.55, -10.6167, 16.7333, -7.8331, -999999, -8.145, 46.822, 38.8876, 38.7333, 15.8167, 12.2188, -999999, -23.2178, 32.2869, 2.3, 21.3469, 44.4908, -3.4019, -29.6842, 48.5872, 50.6996, 68.0546, 49.7502, 49.5136, -25.2667, 45.5234, 13.2019, 25.3573, 39.4994, 31.6725, -999999, -2.5744, -28.24, 0.0487, -999999, 4.8699, 13.2203, 60.4564, 32.2994, -21.55, -13.7, 60.34, 39.5489, 54.3419, 54.5163, 60.4667, 25.9333, -17.8167, 17.65, 59.2353, -999999, 34.4506, -5.1989, -14.9003, 47.8667, 16.3333, 17.9583, 25.2934, 14, 50.677, -9.3333, -23.9833, -32.7167, 18.9048, -2.8833, -20.2078, 64.8569, 46.3317, 64.8378, -1.5746, 34.6667, 48.6833, 13.2833, 29.1081, 1.1983, 22.2667, 70.6634, -22.6342, -5.3166, -21.0096, 64.5667, 49.6501, 27.5167, 61.67, 40.2833, 16.8634, 14.5333, 54.2797, -11.3847, -4.3167, -34.0033, 35.3667, -21.3393, 58.9564, -5.4983, -3.6667, 27.9769, 68.6073, 65.1073, 21.4267, -999999, -2.65, -20.0819, -9.8756, -41.1456, 26.1247, 51.3513, 30.4833, 48.8002, 40.5308, -5.5502, -999999, 50.2001, -24.4167, 50.5994, -8.8368, 12.15, 54.4299, 52.4675, 26.5412, 51.1167, 41.5284, 20.5022, -999999, 3.3, -9.0853, -999999, 44.325, 18.6853, 24.8167, 51.1, 36.5281, 56.4234, 43.0645, -1.405, 52.9821, -999999, 65.5333, 24.8, -35.35, -11.8343, 32.1167, -999999, -15.7167, 50.7214, -9.7024, 27.2696, 51.95, 12.7111, 18.3851, 43.5833, 38.1156, 47.9714, -16.0999, 43.4647, 43.9344, 32.5061, 45.0917, -999999, -34.0527, -13.2, 32.5185, 15.435, -7.1638, 39.7555, 33.7333, 40.1629, 34.1667, 24.4667, 69.4058, 14.0453, 49.7665, 42.8, -35.3333, 70.3705, -23.865, 17.9833, 54.0359]\n",
      "The temperature information is: [32.02, -999999, -999999, 73.22, -999999, 44.6, 75.33, 86.36, -999999, 42.73, 45.48, 52.59, 64.99, 35.71, 70.86, 40.32, 76.17, 88.39, 51.96, 64.4, 77.54, 65.14, 45.81, 66.36, 38.86, 57.45, 41.76, 70.59, 67.39, 68.97, 55.29, 77.76, 51.31, 72.14, 72.12, 81.57, 85.87, 85.05, 55.02, -999999, 83.03, 79.21, 67.62, 75.13, 84.83, 71.1, 82.27, 83.07, 54.97, 82.99, 73.87, -999999, 74.97, 82.83, 40.84, 74.32, -999999, 71.55, 46.8, 76.37, 44.85, 84.22, 65.71, 84.42, 58.3, 85.3, 40.95, 53.49, -999999, 84.22, 49.03, 49.91, 70.18, -999999, 48.9, 46.13, 82.53, 76.91, 38.91, 67.37, 47.8, 51.44, 89.06, 36.23, 85.66, 69.94, 74.8, 42.53, 52.81, -999999, 61.95, -999999, 74.21, 86.18, -999999, 33.66, 82.08, 68.16, 83.8, 82.29, 73.38, 54.77, 60.28, 80.65, 84.04, 51.69, 38.88, 54.18, 89.89, 82.35, 76.5, 81.7, 59.58, 36.34, 39.2, 42.93, -999999, -999999, 62.89, 35.02, 74.75, 56.91, 50.25, 84.6, -999999, 72.73, 51.44, 59.88, 76.77, 55.44, 37.47, 81.66, 85.93, -999999, 55.67, 86.59, 78.96, 67.98, 67.62, 66.22, 70.74, 62.35, 83.91, 66.72, -999999, 64.18, -999999, -999999, 54.93, 26.38, 77.13, 84.18, 74.21, 86.86, 27.52, 84.18, 73.63, 64.26, 41.16, 80.69, 46.62, 83.07, 48.22, 51.73, 46.35, 64.42, 70.12, 54.64, 60.24, 75.6, -999999, 53.31, 66.69, 75.49, 62.67, -999999, -999999, 56.73, 58.91, 62.22, 49.12, -999999, -999999, 64.78, 44.67, 71.82, 78.66, 79.5, 62.51, 61.84, 75.85, 90.93, 70, 89.53, 61.43, 39.36, 68.67, 80.94, 80.62, 72.25, 45.01, 48, 71.58, 61.12, -999999, 49.66, 62.69, 62.15, 71.89, 83.84, 79.11, 78.93, 49.62, 53.98, 37.26, 37.31, 61.05, 61.5, 80.65, 64.65, 82.2, 85.89, 37.42, 77.92, 62.91, 60.91, 68.54, 78.98, 78.48, 64.13, 49.08, 61.61, 54.95, 74.98, -999999, 70.03, 73.17, 59.29, 57.02, 62.17, 78.08, 73.26, -999999, -999999, 72.34, 60.19, 85.32, 63.16, 73.58, 39.69, 66.6, 78.94, 42.31, 86.54, 65.5, 72.21, 35.29, 45.36, 39.36, 62.38, 70.18, 88.14, 55.69, 81.7, 72.37, 80.71, 72.95, 57.29, 86.14, 99.5, 84.54, 82.76, 80.13, 69.01, 82.44, 55.17, 65.98, 84.04, 78.69, 64.56, 68, 72.09, 83.05, 89.58, 83.1, 69.78, 65.14, -999999, -999999, 51.96, 65.79, 82.42, 81.97, 79.12, 69.73, 52.75, 86.05, 79.25, 57.22, 66.94, 59.34, 72.95, 85.12, 54.19, 61.2, 80.51, -999999, 57.49, 75.36, 85.23, 60.58, 55.09, 52.05, 47.53, 60.35, 63.36, 82.09, 62.29, 55.04, 48.6, 63.73, 64.51, 61.36, 61.05, 79.18, 71.4, 86.61, 65.84, 73.22, -999999, -999999, 74.35, 90.68, 73.29, -999999, 53.42, 78.67, 75.94, 81.05, 67.78, 60.91, 51.3, 76.73, 52.97, 58.87, 60.75, 47.8, 59.92, 80.69, 76.12, 59, 84.67, 55.35, 64.54, 79.23, 84.56, 67.53, 59.4, -999999, 80.46, 80.38, 79.86, 76.42, 55.99, 77.86, 70.38, -999999, 70.72, 70.36, -999999, 80.56, 59.25, 69.78, 64.22, 49.73, 80.82, 71.37, 48.9, 37.63, 58.26, 51.04, 74.34, -999999, 74.3, 82.54, 74.79, 79.52, 80.94, 39.9, 50.92, 47.44, 57.65, 93.69, 61.93, 53.55, 56.34, -999999, 64.44, 71.01, 61.81, 86, 78.67, 88.63, 78.85, 100.29, 76.1, 64.18, -999999, 63.21, 58.89, 55.24, 56.71, 49.95, 46.76, 47.43, 88.83, 83.07, 63.43, 46.49, 82.99, 53.87, 32.05, 81.16, -999999, 72.64, 83.01, 85.26, 60.69, 80.29, 80.02, 91.2, 65.71, -999999, 83.37, 64.44, 75.09, 64.65, 71.58, 84.78, -999999, 62.94, 100.47, 79.11, 82.72, 55.31, 58.71, 49.3, 68.97, 55.58, 62.8, 62.71, 57.76, 44.2, 64.98, 77.07, 93.18, 87.03, 66.45, -999999, 84.43, 60.85, 71.02, -999999, 77.85, 70.2, 52.59, 68.94, 74.97, 60.85, 77.85, 89.78, 75.83, 64.31, 58.14, 96.58, 51.84, 88.12, 56.17, -999999, 77.23, 73.4, 68.47, 71.91, 79.2, 78.6, 80.62, 87.39, 57.24, 48.22, 45.55, 66.99, 90.57, 84.02, 72.09, 72.59, 73.76, 72.61, 72.57, 64.76, 63.84, 75.79, 72.05, 69.98, 65.82, 41.45, 52.5, 78.82, 73.36, 52.07, 46.18, 77.25, 75.85, 87.64, 79.11, 79.65, 51.33, 77.05, 70.43, 52.88, 76.89, 72.91, 67.01, 70.88, 83.34, 63.46, 44.73, 62.08, 85.77, -999999, 71.67, 65.23, 72.99, 33.55, 79.57, 66.83, 62.55, 60.01, 65.05, 85.62, -999999, 62.6, 73.42, 74.93, 69.8, 80.58, 50.07, 65.43, 80.71, 70.75, 88.29, 88.02, -999999, 78.3, 61.45, -999999, 68.45, 86.77, 76.91, 66.54, 65.16, 60.69, 60.94, 71.62, 70, -999999, 50.25, 85.82, 60.76, 53.29, 73.13, -999999, 68.02, 81.66, 56.12, 79.02, 50, 87.49, 68.11, 70.07, 76.33, 72.63, 82.71, 67.46, 69.35, 89.92, 72.55, -999999, 53.51, 65.97, 86, 86.34, 49.05, 75.69, 68.13, 64.08, 55.6, 91.51, 74.62, 87.93, 69.53, 95.02, 51.46, 40.98, 68, 78.08, 57.11]\n",
      "The humidity is: [80, 70, 61, 89, 69, 74, 92, 37, 60, 87, 95, 77, 63, 6, 61, 77, 77, 96, 72, 88, 65, 42, 89, 95, 72, 67, 97, 76, 87, 88, 40, 79, 28, 52, 87, 74, 77, 64, 87, 82, 62, 67, 36, 97, 81, 78, 54, 73, 70, 79, 90, 72, 66, 96, 70, 80, 72, 87, 71, 87, 71, 65, 91, 87, 83, 94, 91, 61, 42, 55, 52, 80, 93, 61, 71, 64, 76, 76, 81, 79, 83, 42, 57, 91, 79, 94, 51, 65, 99, 76, 91, 74, 79, 93, 60, 66, 13, 69, 35, 41, 51, 69, 75, 88, 57, 90, 20, 100, 92, 67, 75, 94, 78, 16, 58, 75, 77, 85, 85, 10, 73, 95, 53, 85, 64, 62, 66, 24, 73, 70, 82, 30, 14, 69, 27, 83, 75, 22, 68, 88, 89, 62, 27, 90, 84, 93, 88, 94, 71, 71, 89, 74, 81, 84, 83, 82, 82, 86, 93, 80, 86, 46, 79, 81, 80, 69, 23, 51, 78, 58, 85, 97, 24, 78, 83, 83, 84, 80, 33, 21, 90, 100, 84, 46, 74, 81, 83, 78, 84, 87, 99, 96, 68, 34, 52, 75, 38, 81, 91, 57, 72, 78, 33, 89, 64, 90, 57, 98, 79, 35, 80, 72, 77, 58, 94, 62, 56, 76, 86, 67, 99, 10, 85, 74, 100, 21, 88, 83, 100, 44, 81, 75, 63, 6, 77, 22, 70, 78, 32, 79, 23, 22, 70, 70, 81, 45, 34, 93, 52, 67, 27, 54, 81, 28, 76, 63, 63, 67, 70, 46, 84, 73, 58, 83, 52, 76, 57, 77, 87, 79, 76, 63, 69, 94, 96, 67, 89, 37, 64, 82, 75, 92, 82, 73, 94, 1, 33, 52, 92, 79, 73, 83, 88, 78, 73, 68, 78, 48, 90, 42, 37, 62, 92, 54, 35, 83, 78, 82, 63, 96, 93, 68, 60, 76, 60, 91, 88, 67, 62, 76, 88, 67, 85, 43, 40, 67, 89, 83, 86, 78, 93, 68, 83, 73, 72, 46, 77, 87, 81, 98, 98, 81, 74, 94, 99, 59, 69, 71, 14, 94, 96, 99, 91, 99, 19, 84, 59, 92, 82, 75, 79, 53, 82, 62, 90, 31, 33, 62, 63, 68, 79, 98, 92, 85, 98, 41, 74, 19, 99, 71, 81, 80, 78, 70, 66, 63, 80, 72, 83, 53, 97, 75, 78, 91, 88, 99, 72, 89, 11, 89, 51, 72, 83, 100, 43, 71, 22, 77, 76, 61, 61, 94, 51, 11, 63, 68, 95, 89, 86, 96, 83, 91, 84, 82, 40, 58, 52, 48, 54, 36, 63, 79, 61, 50, 82, 90, 54, 66, 85, 30, 52, 94, 96, 66, 57, 12, 76, 76, 44, 44, 44, 91, 90, 73, 89, 71, 91, 62, 81, 66, 79, 71, 83, 88, 92, 46, 5, 86, 57, 89, 72, 90, 69, 69, 63, 46, 84, 72, 83, 93, 63, 18, 93, 41, 65, 86, 91, 59, 83, 75, 32, 68, 73, 50, 49, 83, 83, 88, 70, 78, 69, 66, 33, 94, 85, 74, 37, 94, 52, 85, 77, 88, 98, 71, 65, 64, 36, 72, 80, 88, 26, 88, 33, 90, 68, 15, 46, 27, 51, 75, 93, 43, 26, 47, 76, 87, 73, 69, 88, 36, 97, 73, 36, 61, 39, 63, 36, 11, 91, 81, 82, 86, 97]\n",
      "The country  received is: ['GL', 'PF', 'CA', 'VE', 'IN', 'RU', 'NZ', 'RU', 'AU', 'CL', 'VE', 'GL', 'TD', 'US', 'CA', 'US', 'NC', 'PT', 'NZ', 'CA', 'AR', 'RU', 'CA', 'NG', 'ET', 'US', 'RU', 'PF', 'US', 'CV', 'CA', 'IN', 'TM', 'US', 'DE', 'MV', 'PF', 'BR', 'EC', 'US', 'BR', 'US', 'US', 'GE', 'US', 'BR', 'RU', 'MV', 'SJ', 'HN', 'EC', 'ZA', 'US', 'BR', 'US', 'US', 'IN', 'GB', 'VN', 'NO', 'US', 'US', 'ET', 'AU', 'MU', 'ZA', 'ZA', 'CN', 'US', 'NA', 'AU', 'AR', 'CL', 'VN', 'RU', 'PG', 'US', 'CV', 'CA', 'IE', 'PE', 'RU', 'MX', 'RU', 'IN', 'ES', 'IN', 'NU', 'IN', 'NA', 'BR', 'CK', 'US', 'UY', 'GL', 'ZA', 'US', 'KI', 'RU', 'TM', 'ZA', 'GL', 'RU', 'NZ', 'KG', 'CA', 'RU', 'NZ', 'AU', 'SB', 'US', 'AU', 'NZ', 'AU', 'CA', 'RU', 'MX', 'MY', 'GB', 'IR', 'TO', 'CF', 'RU', 'IT', 'TL', 'ES', 'CN', 'RU', 'FR', 'NA', 'GL', 'RU', 'AU', 'AU', 'CN', 'GL', 'US', 'RU', 'CA', 'CA', 'BB', 'GL', 'IQ', 'CL', 'NZ', 'IS', 'JP', 'CG', 'ZA', 'CA', 'CI', 'FI', 'US', 'BR', 'US', 'AU', 'AU', 'US', 'RU', 'RE', 'NZ', 'RU', 'GM', 'GW', 'IT', 'AU', 'LY', 'IN', 'EG', 'MY', 'PE', 'GL', 'RU', 'ID', 'CO', 'MU', 'NZ', 'AR', 'RU', 'YE', 'PL', 'TR', 'PE', 'AU', 'ID', 'BR', 'US', 'IS', 'CA', 'AR', 'RU', 'RU', 'RU', 'AU', 'AU', 'ID', 'TM', 'US', 'JP', 'AU', 'AU', 'PE', 'EG', 'GD', 'KZ', 'AR', 'NZ', 'RO', 'US', 'AU', 'BR', 'RU', 'RU', 'RU', 'US', 'RE', 'AU', 'US', 'HK', 'KZ', 'VE', 'CL', 'JP', 'NC', 'SE', 'KZ', 'PT', 'MU', 'RU', 'AR', 'RU', 'BR', 'TZ', 'CN', 'GB', 'EG', 'MU', 'TO', 'AU', 'CA', 'SA', 'PK', 'CN', 'MV', 'GH', 'KZ', 'EG', 'NO', 'RU', 'ID', 'US', 'RU', 'PT', 'RU', 'CN', 'US', 'AU', 'US', 'BR', 'IR', 'RE', 'PF', 'PH', 'MX', 'KZ', 'NA', 'IN', 'PF', 'US', 'BR', 'TR', 'AU', 'PH', 'RU', 'UG', 'AU', 'CA', 'CN', 'ID', 'CA', 'ZA', 'RU', 'RU', 'RU', 'PT', 'GF', 'CA', 'HU', 'BY', 'MW', 'US', 'JP', 'CA', 'BR', 'IL', 'OM', 'PT', 'ES', 'ID', 'NE', 'US', 'ZM', 'US', 'DZ', 'AU', 'CY', 'TR', 'GB', 'CM', 'CA', 'CN', 'RU', 'NZ', 'US', 'ID', 'ID', 'CA', 'PG', 'CA', 'UG', 'JP', 'SB', 'EC', 'RU', 'MX', 'SO', 'IN', 'NG', 'RU', 'BR', 'SS', 'AU', 'ES', 'MX', 'PE', 'KZ', 'RU', 'CL', 'US', 'BR', 'LV', 'CA', 'ET', 'NO', 'IN', 'RU', 'MX', 'US', 'AF', 'LK', 'NA', 'FO', 'RU', 'DE', 'ML', 'RU', 'RU', 'CA', 'PE', 'ID', 'RU', 'IN', 'SO', 'PH', 'ID', 'PK', 'CN', 'MG', 'HR', 'US', 'FI', 'RU', 'BR', 'ZA', 'CL', 'US', 'IN', 'YE', 'CL', 'MV', 'UY', 'AR', 'OM', 'LY', 'US', 'ID', 'IT', 'VU', 'PG', 'IN', 'BR', 'SB', 'CH', 'US', 'PT', 'GT', 'PH', 'BR', 'MX', 'MY', 'US', 'US', 'KE', 'BR', 'KZ', 'CA', 'RU', 'CA', 'LU', 'BW', 'US', 'GM', 'AE', 'CN', 'SA', 'PG', 'BR', 'CD', 'GH', 'SV', 'NO', 'MA', 'NC', 'PE', 'RU', 'US', 'RU', 'CA', 'RU', 'IN', 'BW', 'IN', 'RU', 'SY', 'BR', 'MG', 'CN', 'SN', 'MX', 'EG', 'ML', 'RU', 'TZ', 'BW', 'AU', 'ML', 'ID', 'MU', 'US', 'CN', 'US', 'GA', 'JP', 'FR', 'SV', 'LY', 'CO', 'MX', 'NO', 'BR', 'ID', 'RE', 'RU', 'CA', 'IN', 'RU', 'CN', 'MX', 'TD', 'GB', 'KM', 'CD', 'ZA', 'JP', 'RE', 'RU', 'BR', 'PG', 'MX', 'RU', 'RU', 'SA', 'GA', 'BR', 'BR', 'AR', 'JP', 'RU', 'MX', 'CA', 'US', 'PG', 'CA', 'AU', 'RU', 'AO', 'BQ', 'RU', 'RU', 'BS', 'RU', 'US', 'MR', 'ID', 'PE', 'RU', 'NE', 'IN', 'KZ', 'SY', 'RU', 'RU', 'BR', 'RU', 'RU', 'IN', 'AU', 'ZM', 'LY', 'MG', 'RU', 'MW', 'EG', 'CA', 'KH', 'SA', 'CN', 'ES', 'KZ', 'VU', 'ES', 'JP', 'CN', 'RU', 'ZA', 'MG', 'US', 'PH', 'PE', 'US', 'JP', 'PT', 'IN', 'AE', 'RU', 'PH', 'CA', 'CN', 'CL', 'NO', 'MZ', 'MX', 'PL']\n"
     ]
    }
   ],
   "source": [
    "# cities = [\"Paris\", \"Sydney\", \"Oslo\", \"New York\", \"Tokyo\"]\n",
    "units =\"imperial\"\n",
    "# set up lists to hold reponse info\n",
    "lat = []\n",
    "max_temp =[]\n",
    "windspeed =[]\n",
    "humid =[]\n",
    "cloud = []\n",
    "date = []\n",
    "country =[]\n",
    "\n",
    "# Loop through the list of cities and perform a request for data on each\n",
    "\n",
    "\n",
    "for city in cities:\n",
    "    try:\n",
    "        api_url = f\"https://api.openweathermap.org/data/2.5/weather?q={city}&appid={API}&units={units}\"\n",
    "        #print(api_url)\n",
    "        response = requests.get(api_url).json()\n",
    "        lat.append(response['coord']['lat'])\n",
    "        max_temp.append(response['main']['temp_max'])\n",
    "        humid.append(response['main']['humidity'])\n",
    "        cloud.append(response['clouds']['all'])\n",
    "        windspeed.append(response['wind']['speed'])\n",
    "        country.append(response['sys']['country'])\n",
    "        date.append(response['dt'])\n",
    "\n",
    "    except KeyError:\n",
    "        lat.append(-999999)\n",
    "        max_temp.append(-999999)\n",
    "\n",
    "print(f\"The latitude information information for {cities} received is: {lat}\")\n",
    "print(f\"The temperature information is: {max_temp}\")\n",
    "print(f\"The humidity is: {humid}\")\n",
    "print(f\"The country  received is: {country}\")\n",
    "\n"
   ]
  },
  {
   "cell_type": "code",
   "execution_count": 64,
   "metadata": {},
   "outputs": [
    {
     "data": {
      "text/plain": [
       "(606, 606, 553, 553, 553, 553, 553)"
      ]
     },
     "execution_count": 64,
     "metadata": {},
     "output_type": "execute_result"
    }
   ],
   "source": [
    "# len(lat, temp, windspeed, humid, cloud, date, country) \n",
    "# temp\n",
    "# windspeed\n",
    "# humid\n",
    "# cloud \n",
    "# date \n",
    "# country\n",
    "len(lat), len(max_temp), len(windspeed), len(humid), len(cloud), len(country), len(date)\n"
   ]
  },
  {
   "cell_type": "code",
   "execution_count": null,
   "metadata": {},
   "outputs": [],
   "source": [
    "cities"
   ]
  },
  {
   "cell_type": "code",
   "execution_count": 12,
   "metadata": {},
   "outputs": [
    {
     "data": {
      "text/plain": [
       "{'cod': '400', 'message': 'wrong latitude'}"
      ]
     },
     "execution_count": 12,
     "metadata": {},
     "output_type": "execute_result"
    }
   ],
   "source": [
    "# # Note: target url works!\n",
    "# target_url = f\"https://api.openweathermap.org/data/2.5/weather?lat={lats}&lon={lngs}&appid={API}\"\n",
    "# # Run a request to endpoint and convert result to json\n",
    "# wea_data = requests.get(target_url).json()\n",
    "\n",
    "# # Print the json\n",
    "# wea_data"
   ]
  },
  {
   "cell_type": "code",
   "execution_count": 65,
   "metadata": {},
   "outputs": [
    {
     "data": {
      "text/html": [
       "<div>\n",
       "<style scoped>\n",
       "    .dataframe tbody tr th:only-of-type {\n",
       "        vertical-align: middle;\n",
       "    }\n",
       "\n",
       "    .dataframe tbody tr th {\n",
       "        vertical-align: top;\n",
       "    }\n",
       "\n",
       "    .dataframe thead th {\n",
       "        text-align: right;\n",
       "    }\n",
       "</style>\n",
       "<table border=\"1\" class=\"dataframe\">\n",
       "  <thead>\n",
       "    <tr style=\"text-align: right;\">\n",
       "      <th></th>\n",
       "      <th>city</th>\n",
       "      <th>lat</th>\n",
       "      <th>temp</th>\n",
       "    </tr>\n",
       "  </thead>\n",
       "  <tbody>\n",
       "    <tr>\n",
       "      <th>0</th>\n",
       "      <td>ilulissat</td>\n",
       "      <td>69.2167</td>\n",
       "      <td>32.02</td>\n",
       "    </tr>\n",
       "    <tr>\n",
       "      <th>1</th>\n",
       "      <td>belushya guba</td>\n",
       "      <td>-999999.0000</td>\n",
       "      <td>-999999.00</td>\n",
       "    </tr>\n",
       "    <tr>\n",
       "      <th>2</th>\n",
       "      <td>illoqqortoormiut</td>\n",
       "      <td>-999999.0000</td>\n",
       "      <td>-999999.00</td>\n",
       "    </tr>\n",
       "    <tr>\n",
       "      <th>3</th>\n",
       "      <td>rikitea</td>\n",
       "      <td>-23.1203</td>\n",
       "      <td>73.22</td>\n",
       "    </tr>\n",
       "    <tr>\n",
       "      <th>4</th>\n",
       "      <td>mys shmidta</td>\n",
       "      <td>-999999.0000</td>\n",
       "      <td>-999999.00</td>\n",
       "    </tr>\n",
       "    <tr>\n",
       "      <th>...</th>\n",
       "      <td>...</td>\n",
       "      <td>...</td>\n",
       "      <td>...</td>\n",
       "    </tr>\n",
       "    <tr>\n",
       "      <th>601</th>\n",
       "      <td>constitucion</td>\n",
       "      <td>-35.3333</td>\n",
       "      <td>51.46</td>\n",
       "    </tr>\n",
       "    <tr>\n",
       "      <th>602</th>\n",
       "      <td>vardo</td>\n",
       "      <td>70.3705</td>\n",
       "      <td>40.98</td>\n",
       "    </tr>\n",
       "    <tr>\n",
       "      <th>603</th>\n",
       "      <td>inhambane</td>\n",
       "      <td>-23.8650</td>\n",
       "      <td>68.00</td>\n",
       "    </tr>\n",
       "    <tr>\n",
       "      <th>604</th>\n",
       "      <td>la orilla</td>\n",
       "      <td>17.9833</td>\n",
       "      <td>78.08</td>\n",
       "    </tr>\n",
       "    <tr>\n",
       "      <th>605</th>\n",
       "      <td>marienburg</td>\n",
       "      <td>54.0359</td>\n",
       "      <td>57.11</td>\n",
       "    </tr>\n",
       "  </tbody>\n",
       "</table>\n",
       "<p>606 rows × 3 columns</p>\n",
       "</div>"
      ],
      "text/plain": [
       "                 city          lat       temp\n",
       "0           ilulissat      69.2167      32.02\n",
       "1       belushya guba -999999.0000 -999999.00\n",
       "2    illoqqortoormiut -999999.0000 -999999.00\n",
       "3             rikitea     -23.1203      73.22\n",
       "4         mys shmidta -999999.0000 -999999.00\n",
       "..                ...          ...        ...\n",
       "601      constitucion     -35.3333      51.46\n",
       "602             vardo      70.3705      40.98\n",
       "603         inhambane     -23.8650      68.00\n",
       "604         la orilla      17.9833      78.08\n",
       "605        marienburg      54.0359      57.11\n",
       "\n",
       "[606 rows x 3 columns]"
      ]
     },
     "execution_count": 65,
     "metadata": {},
     "output_type": "execute_result"
    }
   ],
   "source": [
    "# create a data frame from cities, lat, and temp\n",
    "weather_dict = {\"city\": cities,\"lat\": lat, \"temp\":max_temp}\n",
    "weather_data = pd.DataFrame(weather_dict)\n",
    "weather_data"
   ]
  },
  {
   "cell_type": "code",
   "execution_count": 66,
   "metadata": {},
   "outputs": [
    {
     "data": {
      "image/png": "[encoded data removed]",
      "text/plain": [
       "<Figure size 432x288 with 1 Axes>"
      ]
     },
     "metadata": {
      "needs_background": "light"
     },
     "output_type": "display_data"
    }
   ],
   "source": [
    "# Build a scatter plot for each data type\n",
    "plt.xlim( [ -90, 90 ] ) \n",
    "plt.ylim( [-50 , 130 ] ) \n",
    "plt.scatter(weather_data[\"temp\"], weather_data[\"lat\"], marker=\"o\")\n",
    "\n",
    "# Incorporate the other graph properties\n",
    "plt.title(\"Temperature in World Cities\")\n",
    "plt.ylabel(\"Temperature (Celsius)\")\n",
    "plt.xlabel(\"Latitude\")\n",
    "plt.grid(True)\n",
    "\n",
    "# Save the figure\n",
    "plt.savefig(\"TemperatureInWorldCities.png\")\n",
    "\n",
    "# Show plot\n",
    "plt.show()"
   ]
  },
  {
   "cell_type": "code",
   "execution_count": null,
   "metadata": {},
   "outputs": [],
   "source": [
    "# Lets try requestion by name\n",
    "\n",
    "# target2_url = f\"http://api.openweathermap.org/geo/1.0/direct?q={city},{state},{country}&limit={limit}&appid={API}\"\n",
    "\n",
    "# wea2_data = requests.get(target2_url).json()\n",
    "\n",
    "# # Print the json\n",
    "# wea2_data\n"
   ]
  },
  {
   "cell_type": "code",
   "execution_count": 26,
   "metadata": {},
   "outputs": [
    {
     "data": {
      "text/plain": [
       "dict_keys(['cod', 'message'])"
      ]
     },
     "execution_count": 26,
     "metadata": {},
     "output_type": "execute_result"
    }
   ],
   "source": [
    "wea_data.keys()"
   ]
  },
  {
   "cell_type": "code",
   "execution_count": 27,
   "metadata": {},
   "outputs": [
    {
     "ename": "KeyError",
     "evalue": "'list'",
     "output_type": "error",
     "traceback": [
      "\u001b[1;31m---------------------------------------------------------------------------\u001b[0m",
      "\u001b[1;31mKeyError\u001b[0m                                  Traceback (most recent call last)",
      "\u001b[1;32m~\\AppData\\Local\\Temp\\ipykernel_3640\\1233661678.py\u001b[0m in \u001b[0;36m<module>\u001b[1;34m\u001b[0m\n\u001b[1;32m----> 1\u001b[1;33m \u001b[0mlen\u001b[0m\u001b[1;33m(\u001b[0m\u001b[0mwea_data\u001b[0m\u001b[1;33m[\u001b[0m\u001b[1;34m\"list\"\u001b[0m\u001b[1;33m]\u001b[0m\u001b[1;33m)\u001b[0m\u001b[1;33m\u001b[0m\u001b[1;33m\u001b[0m\u001b[0m\n\u001b[0m",
      "\u001b[1;31mKeyError\u001b[0m: 'list'"
     ]
    }
   ],
   "source": [
    "len(wea_data[\"list\"])"
   ]
  },
  {
   "cell_type": "code",
   "execution_count": 75,
   "metadata": {},
   "outputs": [
    {
     "name": "stdout",
     "output_type": "stream",
     "text": [
      "            city      lat   temp\n",
      "0      ilulissat  69.2167  32.02\n",
      "5    tuktoyaktuk  69.4541  44.60\n",
      "6       carupano  10.6678  75.33\n",
      "7        veraval  20.9000  86.36\n",
      "9          tiksi  71.6872  42.73\n",
      "..           ...      ...    ...\n",
      "599    peachland  49.7665  69.53\n",
      "600         hami  42.8000  95.02\n",
      "602        vardo  70.3705  40.98\n",
      "604    la orilla  17.9833  78.08\n",
      "605   marienburg  54.0359  57.11\n",
      "\n",
      "[385 rows x 3 columns]\n"
     ]
    }
   ],
   "source": [
    "North = weather_data[weather_data[\"lat\"] >= 0 ]\n",
    "print(North)"
   ]
  },
  {
   "cell_type": "code",
   "execution_count": null,
   "metadata": {},
   "outputs": [],
   "source": [
    "# Extract latitude and temp\n",
    "lat = wea_data[\"city\"]['coord']['lat']\n",
    "temp = wea_data[\"list\"][0][\"main\"]['temp']\n",
    "temp, lat"
   ]
  },
  {
   "cell_type": "code",
   "execution_count": 76,
   "metadata": {},
   "outputs": [
    {
     "name": "stdout",
     "output_type": "stream",
     "text": [
      "The r-squared is: 0.4323322231256785\n"
     ]
    },
    {
     "data": {
      "image/png": "[encoded data removed]",
      "text/plain": [
       "<Figure size 432x288 with 1 Axes>"
      ]
     },
     "metadata": {
      "needs_background": "light"
     },
     "output_type": "display_data"
    }
   ],
   "source": [
    "# Your second requirement is to run linear regression on each relationship, only this time separating them \n",
    "# into Northern Hemisphere (greater than or equal to 0 degrees latitude) \n",
    "# and Southern Hemisphere (less than 0 degrees latitude): \n",
    "\n",
    "# Northern Hemisphere (greater than or equal to 0 degrees latitude)\n",
    "# # lets append a list of values and insert weather_data[\"lat\"] > 0 or use a dataframe then graph it!\n",
    "\n",
    "\n",
    "x_values = North['lat']\n",
    "y_values = North['temp']\n",
    "(slope, intercept, rvalue, pvalue, stderr) = linregress(x_values, y_values)\n",
    "regress_values = x_values * slope + intercept\n",
    "line_eq = \"y = \" + str(round(slope,2)) + \"x + \" + str(round(intercept,2))\n",
    "plt.xlim( [ 0, 90 ] ) \n",
    "plt.ylim( [-50 , 130 ] )\n",
    "plt.scatter(x_values,y_values)\n",
    "plt.plot(x_values,regress_values,\"r-\")\n",
    "plt.annotate(line_eq,(6,10),fontsize=15,color=\"red\")\n",
    "plt.xlabel('latitude')\n",
    "plt.ylabel('Max Temperature (F)')\n",
    "print(f\"The r-squared is: {rvalue**2}\")\n",
    "plt.show()\n"
   ]
  },
  {
   "cell_type": "code",
   "execution_count": 78,
   "metadata": {},
   "outputs": [
    {
     "name": "stdout",
     "output_type": "stream",
     "text": [
      "The r-squared is: 0.9999999995635256\n"
     ]
    },
    {
     "data": {
      "image/png": "[encoded data removed]",
      "text/plain": [
       "<Figure size 432x288 with 1 Axes>"
      ]
     },
     "metadata": {
      "needs_background": "light"
     },
     "output_type": "display_data"
    }
   ],
   "source": [
    "# Southern Hemisphere (less than 0 degrees latitude)\n",
    "# # lets append a list of values and insert weather_data[\"lat\"] < 0 or use a dataframe then graph it!\n",
    "south =  weather_data[weather_data[\"lat\"] < 0 ]\n",
    "\n",
    "x_values = south['lat']\n",
    "y_values = south['temp']\n",
    "(slope, intercept, rvalue, pvalue, stderr) = linregress(x_values, y_values)\n",
    "regress_values = x_values * slope + intercept\n",
    "line_eq = \"y = \" + str(round(slope,2)) + \"x + \" + str(round(intercept,2))\n",
    "plt.xlim( [ -90, 0 ] ) \n",
    "plt.ylim( [-50 , 130 ] )\n",
    "plt.scatter(x_values,y_values)\n",
    "plt.plot(x_values,regress_values,\"r-\")\n",
    "plt.annotate(line_eq,(6,10),fontsize=15,color=\"red\")\n",
    "plt.xlabel('latitude')\n",
    "plt.ylabel('Max Temperature (F)')\n",
    "print(f\"The r-squared is: {rvalue**2}\")\n",
    "plt.show()\n"
   ]
  },
  {
   "cell_type": "code",
   "execution_count": null,
   "metadata": {},
   "outputs": [],
   "source": [
    "#Latitude vs. Humidity -----North\n",
    "x_values = North['lat']\n",
    "y_values = North['humid']\n",
    "(slope, intercept, rvalue, pvalue, stderr) = linregress(x_values, y_values)\n",
    "regress_values = x_values * slope + intercept\n",
    "line_eq = \"y = \" + str(round(slope,2)) + \"x + \" + str(round(intercept,2))\n",
    "plt.xlim( [ 0, 90 ] ) \n",
    "plt.ylim( [-50 , 130 ] )\n",
    "plt.scatter(x_values,y_values)\n",
    "plt.plot(x_values,regress_values,\"r-\")\n",
    "plt.annotate(line_eq,(6,10),fontsize=15,color=\"red\")\n",
    "plt.xlabel('latitude')\n",
    "plt.ylabel('Max Temperature (F)')\n",
    "print(f\"The r-squared is: {rvalue**2}\")\n",
    "plt.show()\n",
    "\n",
    "\n"
   ]
  }
 ],
 "metadata": {
  "kernelspec": {
   "display_name": "Python 3.7.13 ('PythonData')",
   "language": "python",
   "name": "python3"
  },
  "language_info": {
   "codemirror_mode": {
    "name": "ipython",
    "version": 3
   },
   "file_extension": ".py",
   "mimetype": "text/x-python",
   "name": "python",
   "nbconvert_exporter": "python",
   "pygments_lexer": "ipython3",
   "version": "3.7.13"
  },
  "orig_nbformat": 4,
  "vscode": {
   "interpreter": {
    "hash": "e5e434fdc2b64ab5d22aab168b9b76cc98d42e611d79d73e43618ef016367183"
   }
  }
 },
 "nbformat": 4,
 "nbformat_minor": 2
}
