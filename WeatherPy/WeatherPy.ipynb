{
 "cells": [
  {
   "cell_type": "code",
   "execution_count": 11,
   "metadata": {},
   "outputs": [],
   "source": [
    "# Your first requirement is to create a series of scatter plots to showcase the following relationships:\n",
    "# Temperature (F) vs. Latitude\n",
    "# Humidity (%) vs. Latitude\n",
    "# Cloudiness (%) vs. Latitude\n",
    "# Wind Speed (mph) vs. Latitude\n",
    "\n",
    "# After each plot add a sentence or too explaining\\data\\2.5\\forecast what the code is and analysing."
   ]
  },
  {
   "cell_type": "markdown",
   "metadata": {},
   "source": [
    "Example on how to make an API call using your API key\n",
    "API call\n",
    "\n",
    "http://api.openweathermap.org/data/2.5/forecast?id=524901&appid={API key}"
   ]
  },
  {
   "cell_type": "markdown",
   "metadata": {},
   "source": []
  },
  {
   "cell_type": "code",
   "execution_count": 12,
   "metadata": {},
   "outputs": [],
   "source": [
    "# Dependencies\n",
    "import collections\n",
    "# collections_abc = getattr(collections, 'Iterable', collections)\n",
    "import numpy as np\n",
    "import pandas as pd\n",
    "import matplotlib.pyplot as plt\n",
    "import requests\n",
    "import gmaps\n",
    "from config import API\n",
    "import json\n",
    "\n",
    "# # Configure gmaps\n",
    "# gmaps.configure(api_key=gkey)"
   ]
  },
  {
   "cell_type": "code",
   "execution_count": null,
   "metadata": {},
   "outputs": [],
   "source": [
    "# Generate Cities List\n",
    "# then Perform a weather check on each city using a series of successive API calls.\n",
    "# Include a print log of each city as it's being processed (with the city number and city name).\n",
    "\n",
    "# Create aiport dataframe\n",
    "# cities_df = pd.read_csv('worldcities.csv')\n",
    "# cities_df.dropna(inplace = True) \n",
    "# cities_df.head()"
   ]
  },
  {
   "cell_type": "code",
   "execution_count": 50,
   "metadata": {},
   "outputs": [],
   "source": [
    "# Delete a columns from the DataFrame to make a simple one\n",
    "# simple_df = cities_df.drop(labels = [\"admin_name\",\"capital\", \"population\",\"city\"], axis =1 )\n",
    "\n",
    "\n",
    "# cities_df[[\"lat\",\"lng\"]].sample(n=1)\n",
    "\n",
    "\n",
    "# sample = cities_df[[\"lat\",\"lng\"]].sample(n=1)\n",
    "# sample_lng, sample_lat = sample[\"lng\"], sample[\"lat\"]\n",
    "# sample_lng, \n",
    "# sample_lat, \n",
    "# lat, lng  = sample_lat.values[0], sample_lng.values[0]"
   ]
  },
  {
   "cell_type": "code",
   "execution_count": 65,
   "metadata": {},
   "outputs": [
    {
     "data": {
      "text/plain": [
       "('isangel', 'vu')"
      ]
     },
     "execution_count": 65,
     "metadata": {},
     "output_type": "execute_result"
    }
   ],
   "source": [
    "from citipy import citipy\n",
    "\n",
    "#randome numbers between -90 to 90 for latitude and -180 to 180 for longitude\n",
    "city = citipy.nearest_city(-19, 169.21)       \n",
    "city.city_name, city.country_code     # Tainan, my home town   \n"
   ]
  },
  {
   "cell_type": "code",
   "execution_count": null,
   "metadata": {},
   "outputs": [],
   "source": [
    "#random sample\n",
    "# rand = cities_df.sample(n=1)\n",
    "# #coordinates only\n",
    "# coord = simple_df[[\"lat\",\"lng\"]]\n",
    "\n",
    "# #random sample of coordinates\n",
    "# rand_lat_lng = coord.sample(n=1)\n",
    "\n",
    "# lat_rand = rand_lat_lng[\"lat\"]\n",
    "# lng_rand = rand_lat_lng[\"lng\"]\n",
    "\n",
    "# lat_rand, lng_rand\n",
    "\n",
    "# example \n",
    "# lat_rand = 64.175 , lng_rand = -51.7333 \n",
    "\n",
    "# print(rand.columns.tolist())"
   ]
  },
  {
   "cell_type": "code",
   "execution_count": 51,
   "metadata": {},
   "outputs": [
    {
     "data": {
      "text/plain": [
       "{'coord': {'lon': 11.9786, 'lat': 11.7803},\n",
       " 'weather': [{'id': 803,\n",
       "   'main': 'Clouds',\n",
       "   'description': 'broken clouds',\n",
       "   'icon': '04n'}],\n",
       " 'base': 'stations',\n",
       " 'main': {'temp': 300.22,\n",
       "  'feels_like': 301.25,\n",
       "  'temp_min': 300.22,\n",
       "  'temp_max': 300.22,\n",
       "  'pressure': 1009,\n",
       "  'humidity': 59,\n",
       "  'sea_level': 1009,\n",
       "  'grnd_level': 967},\n",
       " 'visibility': 10000,\n",
       " 'wind': {'speed': 6.55, 'deg': 224, 'gust': 11.51},\n",
       " 'clouds': {'all': 77},\n",
       " 'dt': 1655091925,\n",
       " 'sys': {'country': 'NG', 'sunrise': 1655095677, 'sunset': 1655141785},\n",
       " 'timezone': 3600,\n",
       " 'id': 2345521,\n",
       " 'name': 'Damaturu',\n",
       " 'cod': 200}"
      ]
     },
     "execution_count": 51,
     "metadata": {},
     "output_type": "execute_result"
    }
   ],
   "source": [
    "# Note: target url works!\n",
    "target_url = f\"https://api.openweathermap.org/data/2.5/weather?lat={lat}&lon={lng}&appid={API}\"\n",
    "# Run a request to endpoint and convert result to json\n",
    "wea_data = requests.get(target_url).json()\n",
    "\n",
    "# Print the json\n",
    "wea_data"
   ]
  },
  {
   "cell_type": "code",
   "execution_count": null,
   "metadata": {},
   "outputs": [],
   "source": []
  },
  {
   "cell_type": "code",
   "execution_count": 37,
   "metadata": {},
   "outputs": [
    {
     "data": {
      "text/plain": [
       "{'cod': '400', 'message': 'bad params'}"
      ]
     },
     "execution_count": 37,
     "metadata": {},
     "output_type": "execute_result"
    }
   ],
   "source": [
    "# Lets try requestion by name\n",
    "\n",
    "# target2_url = f\"http://api.openweathermap.org/geo/1.0/direct?q={city},{state},{country}&limit={limit}&appid={API}\"\n",
    "\n",
    "# wea2_data = requests.get(target2_url).json()\n",
    "\n",
    "# # Print the json\n",
    "# wea2_data\n"
   ]
  },
  {
   "cell_type": "code",
   "execution_count": 16,
   "metadata": {},
   "outputs": [
    {
     "data": {
      "text/html": [
       "<div>\n",
       "<style scoped>\n",
       "    .dataframe tbody tr th:only-of-type {\n",
       "        vertical-align: middle;\n",
       "    }\n",
       "\n",
       "    .dataframe tbody tr th {\n",
       "        vertical-align: top;\n",
       "    }\n",
       "\n",
       "    .dataframe thead th {\n",
       "        text-align: right;\n",
       "    }\n",
       "</style>\n",
       "<table border=\"1\" class=\"dataframe\">\n",
       "  <thead>\n",
       "    <tr style=\"text-align: right;\">\n",
       "      <th></th>\n",
       "      <th>city</th>\n",
       "      <th>city_ascii</th>\n",
       "      <th>lat</th>\n",
       "      <th>lng</th>\n",
       "      <th>country</th>\n",
       "      <th>iso2</th>\n",
       "      <th>iso3</th>\n",
       "      <th>admin_name</th>\n",
       "      <th>capital</th>\n",
       "      <th>population</th>\n",
       "      <th>id</th>\n",
       "    </tr>\n",
       "  </thead>\n",
       "  <tbody>\n",
       "    <tr>\n",
       "      <th>0</th>\n",
       "      <td>Tokyo</td>\n",
       "      <td>Tokyo</td>\n",
       "      <td>35.6839</td>\n",
       "      <td>139.7744</td>\n",
       "      <td>Japan</td>\n",
       "      <td>JP</td>\n",
       "      <td>JPN</td>\n",
       "      <td>Tōkyō</td>\n",
       "      <td>primary</td>\n",
       "      <td>39105000.0</td>\n",
       "      <td>1392685764</td>\n",
       "    </tr>\n",
       "    <tr>\n",
       "      <th>1</th>\n",
       "      <td>Jakarta</td>\n",
       "      <td>Jakarta</td>\n",
       "      <td>-6.2146</td>\n",
       "      <td>106.8451</td>\n",
       "      <td>Indonesia</td>\n",
       "      <td>ID</td>\n",
       "      <td>IDN</td>\n",
       "      <td>Jakarta</td>\n",
       "      <td>primary</td>\n",
       "      <td>35362000.0</td>\n",
       "      <td>1360771077</td>\n",
       "    </tr>\n",
       "    <tr>\n",
       "      <th>2</th>\n",
       "      <td>Delhi</td>\n",
       "      <td>Delhi</td>\n",
       "      <td>28.6667</td>\n",
       "      <td>77.2167</td>\n",
       "      <td>India</td>\n",
       "      <td>IN</td>\n",
       "      <td>IND</td>\n",
       "      <td>Delhi</td>\n",
       "      <td>admin</td>\n",
       "      <td>31870000.0</td>\n",
       "      <td>1356872604</td>\n",
       "    </tr>\n",
       "    <tr>\n",
       "      <th>3</th>\n",
       "      <td>Manila</td>\n",
       "      <td>Manila</td>\n",
       "      <td>14.6000</td>\n",
       "      <td>120.9833</td>\n",
       "      <td>Philippines</td>\n",
       "      <td>PH</td>\n",
       "      <td>PHL</td>\n",
       "      <td>Manila</td>\n",
       "      <td>primary</td>\n",
       "      <td>23971000.0</td>\n",
       "      <td>1608618140</td>\n",
       "    </tr>\n",
       "    <tr>\n",
       "      <th>4</th>\n",
       "      <td>São Paulo</td>\n",
       "      <td>Sao Paulo</td>\n",
       "      <td>-23.5504</td>\n",
       "      <td>-46.6339</td>\n",
       "      <td>Brazil</td>\n",
       "      <td>BR</td>\n",
       "      <td>BRA</td>\n",
       "      <td>São Paulo</td>\n",
       "      <td>admin</td>\n",
       "      <td>22495000.0</td>\n",
       "      <td>1076532519</td>\n",
       "    </tr>\n",
       "  </tbody>\n",
       "</table>\n",
       "</div>"
      ],
      "text/plain": [
       "        city city_ascii      lat       lng      country iso2 iso3 admin_name  \\\n",
       "0      Tokyo      Tokyo  35.6839  139.7744        Japan   JP  JPN      Tōkyō   \n",
       "1    Jakarta    Jakarta  -6.2146  106.8451    Indonesia   ID  IDN    Jakarta   \n",
       "2      Delhi      Delhi  28.6667   77.2167        India   IN  IND      Delhi   \n",
       "3     Manila     Manila  14.6000  120.9833  Philippines   PH  PHL     Manila   \n",
       "4  São Paulo  Sao Paulo -23.5504  -46.6339       Brazil   BR  BRA  São Paulo   \n",
       "\n",
       "   capital  population          id  \n",
       "0  primary  39105000.0  1392685764  \n",
       "1  primary  35362000.0  1360771077  \n",
       "2    admin  31870000.0  1356872604  \n",
       "3  primary  23971000.0  1608618140  \n",
       "4    admin  22495000.0  1076532519  "
      ]
     },
     "execution_count": 16,
     "metadata": {},
     "output_type": "execute_result"
    }
   ],
   "source": [
    "#9016\n",
    "cities_df.head()"
   ]
  },
  {
   "cell_type": "code",
   "execution_count": 17,
   "metadata": {},
   "outputs": [
    {
     "ename": "NameError",
     "evalue": "name 'lat' is not defined",
     "output_type": "error",
     "traceback": [
      "\u001b[1;31m---------------------------------------------------------------------------\u001b[0m",
      "\u001b[1;31mNameError\u001b[0m                                 Traceback (most recent call last)",
      "\u001b[1;32m~\\AppData\\Local\\Temp\\ipykernel_7932\\1614519674.py\u001b[0m in \u001b[0;36m<module>\u001b[1;34m\u001b[0m\n\u001b[1;32m----> 1\u001b[1;33m \u001b[0mlat\u001b[0m\u001b[1;33m\u001b[0m\u001b[1;33m\u001b[0m\u001b[0m\n\u001b[0m",
      "\u001b[1;31mNameError\u001b[0m: name 'lat' is not defined"
     ]
    }
   ],
   "source": []
  },
  {
   "cell_type": "code",
   "execution_count": null,
   "metadata": {},
   "outputs": [],
   "source": [
    "wea_data.keys()"
   ]
  },
  {
   "cell_type": "code",
   "execution_count": null,
   "metadata": {},
   "outputs": [],
   "source": [
    "len(wea_data[\"list\"])"
   ]
  },
  {
   "cell_type": "code",
   "execution_count": null,
   "metadata": {},
   "outputs": [],
   "source": [
    "temp = wea_data[\"list\"][0][\"main\"]['temp']\n",
    "temp"
   ]
  },
  {
   "cell_type": "code",
   "execution_count": null,
   "metadata": {},
   "outputs": [],
   "source": []
  },
  {
   "cell_type": "code",
   "execution_count": null,
   "metadata": {},
   "outputs": [],
   "source": [
    "wea_data['city']"
   ]
  },
  {
   "cell_type": "code",
   "execution_count": null,
   "metadata": {},
   "outputs": [],
   "source": [
    "# Temperature (F) vs. Latitude\n",
    "#make an API call and see what comes out---do I need to request latitude??\n",
    "\n",
    "print(json.dumps(wea_data, indent=4, sort_keys=True))"
   ]
  },
  {
   "cell_type": "code",
   "execution_count": null,
   "metadata": {},
   "outputs": [],
   "source": [
    "# Extract latitude \n",
    "lat = wea_data[\"city\"]['coord']['lat']\n",
    "temp = wea_data[\"list\"][0][\"main\"]['temp']\n",
    "temp, lat"
   ]
  }
 ],
 "metadata": {
  "kernelspec": {
   "display_name": "Python 3.7.13 ('PythonData')",
   "language": "python",
   "name": "python3"
  },
  "language_info": {
   "codemirror_mode": {
    "name": "ipython",
    "version": 3
   },
   "file_extension": ".py",
   "mimetype": "text/x-python",
   "name": "python",
   "nbconvert_exporter": "python",
   "pygments_lexer": "ipython3",
   "version": "3.7.13"
  },
  "orig_nbformat": 4,
  "vscode": {
   "interpreter": {
    "hash": "e5e434fdc2b64ab5d22aab168b9b76cc98d42e611d79d73e43618ef016367183"
   }
  }
 },
 "nbformat": 4,
 "nbformat_minor": 2
}
