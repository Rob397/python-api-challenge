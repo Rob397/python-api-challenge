{
 "cells": [
  {
   "cell_type": "code",
   "execution_count": 3,
   "metadata": {},
   "outputs": [],
   "source": [
    "# Dependencies and Setup\n",
    "import matplotlib.pyplot as plt\n",
    "import pandas as pd\n",
    "import numpy as np\n",
    "import requests\n",
    "import gmaps\n",
    "import os\n",
    "\n",
    "# Import API key\n",
    "# from api_keys import g_key"
   ]
  },
  {
   "cell_type": "code",
   "execution_count": 11,
   "metadata": {},
   "outputs": [
    {
     "data": {
      "text/html": [
       "<div>\n",
       "<style scoped>\n",
       "    .dataframe tbody tr th:only-of-type {\n",
       "        vertical-align: middle;\n",
       "    }\n",
       "\n",
       "    .dataframe tbody tr th {\n",
       "        vertical-align: top;\n",
       "    }\n",
       "\n",
       "    .dataframe thead th {\n",
       "        text-align: right;\n",
       "    }\n",
       "</style>\n",
       "<table border=\"1\" class=\"dataframe\">\n",
       "  <thead>\n",
       "    <tr style=\"text-align: right;\">\n",
       "      <th></th>\n",
       "      <th>Unnamed: 0</th>\n",
       "      <th>City</th>\n",
       "      <th>Latitude</th>\n",
       "      <th>Temp</th>\n",
       "      <th>Cloudiness</th>\n",
       "      <th>Humidity</th>\n",
       "      <th>Wind Speed</th>\n",
       "      <th>Date</th>\n",
       "    </tr>\n",
       "  </thead>\n",
       "  <tbody>\n",
       "    <tr>\n",
       "      <th>0</th>\n",
       "      <td>0</td>\n",
       "      <td>salalah</td>\n",
       "      <td>17.0151</td>\n",
       "      <td>304.18</td>\n",
       "      <td>73</td>\n",
       "      <td>64</td>\n",
       "      <td>5.18</td>\n",
       "      <td>1655276226</td>\n",
       "    </tr>\n",
       "    <tr>\n",
       "      <th>1</th>\n",
       "      <td>1</td>\n",
       "      <td>makakilo city</td>\n",
       "      <td>21.3469</td>\n",
       "      <td>298.33</td>\n",
       "      <td>20</td>\n",
       "      <td>64</td>\n",
       "      <td>5.14</td>\n",
       "      <td>1655275973</td>\n",
       "    </tr>\n",
       "    <tr>\n",
       "      <th>2</th>\n",
       "      <td>2</td>\n",
       "      <td>thompson</td>\n",
       "      <td>55.7435</td>\n",
       "      <td>288.24</td>\n",
       "      <td>100</td>\n",
       "      <td>100</td>\n",
       "      <td>3.09</td>\n",
       "      <td>1655276227</td>\n",
       "    </tr>\n",
       "    <tr>\n",
       "      <th>3</th>\n",
       "      <td>3</td>\n",
       "      <td>tibiri</td>\n",
       "      <td>13.5627</td>\n",
       "      <td>298.34</td>\n",
       "      <td>0</td>\n",
       "      <td>78</td>\n",
       "      <td>0.00</td>\n",
       "      <td>1655276227</td>\n",
       "    </tr>\n",
       "    <tr>\n",
       "      <th>4</th>\n",
       "      <td>4</td>\n",
       "      <td>ribeira grande</td>\n",
       "      <td>38.5167</td>\n",
       "      <td>291.37</td>\n",
       "      <td>75</td>\n",
       "      <td>100</td>\n",
       "      <td>4.63</td>\n",
       "      <td>1655275984</td>\n",
       "    </tr>\n",
       "  </tbody>\n",
       "</table>\n",
       "</div>"
      ],
      "text/plain": [
       "   Unnamed: 0            City  Latitude    Temp  Cloudiness  Humidity  \\\n",
       "0           0         salalah   17.0151  304.18          73        64   \n",
       "1           1   makakilo city   21.3469  298.33          20        64   \n",
       "2           2        thompson   55.7435  288.24         100       100   \n",
       "3           3          tibiri   13.5627  298.34           0        78   \n",
       "4           4  ribeira grande   38.5167  291.37          75       100   \n",
       "\n",
       "   Wind Speed        Date  \n",
       "0        5.18  1655276226  \n",
       "1        5.14  1655275973  \n",
       "2        3.09  1655276227  \n",
       "3        0.00  1655276227  \n",
       "4        4.63  1655275984  "
      ]
     },
     "execution_count": 11,
     "metadata": {},
     "output_type": "execute_result"
    }
   ],
   "source": [
    "#  Store Part I results into DataFrame\n",
    "# Load the csv exported in Part I to a DataFrame\n",
    "\n",
    "weather_df = pd.read_csv(\"../WeatherPy/weatherdata\")\n",
    "weather_df.head()"
   ]
  },
  {
   "cell_type": "code",
   "execution_count": null,
   "metadata": {},
   "outputs": [],
   "source": [
    "# Create new DataFrame fitting weather criteria\n",
    "# Narrow down the cities to fit weather conditions.Drop any rows will null values."
   ]
  }
 ],
 "metadata": {
  "kernelspec": {
   "display_name": "Python 3.7.13 ('PythonData')",
   "language": "python",
   "name": "python3"
  },
  "language_info": {
   "codemirror_mode": {
    "name": "ipython",
    "version": 3
   },
   "file_extension": ".py",
   "mimetype": "text/x-python",
   "name": "python",
   "nbconvert_exporter": "python",
   "pygments_lexer": "ipython3",
   "version": "3.7.13"
  },
  "orig_nbformat": 4,
  "vscode": {
   "interpreter": {
    "hash": "e5e434fdc2b64ab5d22aab168b9b76cc98d42e611d79d73e43618ef016367183"
   }
  }
 },
 "nbformat": 4,
 "nbformat_minor": 2
}
